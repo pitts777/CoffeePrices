{
 "cells": [
  {
   "cell_type": "markdown",
   "id": "21d0937f",
   "metadata": {},
   "source": [
    "# Libraries needed to for this jupyter notebook."
   ]
  },
  {
   "cell_type": "code",
   "execution_count": 1,
   "id": "4ecc9d5c",
   "metadata": {},
   "outputs": [
    {
     "data": {
      "text/html": [
       "        <script type=\"text/javascript\">\n",
       "        window.PlotlyConfig = {MathJaxConfig: 'local'};\n",
       "        if (window.MathJax && window.MathJax.Hub && window.MathJax.Hub.Config) {window.MathJax.Hub.Config({SVG: {font: \"STIX-Web\"}});}\n",
       "        if (typeof require !== 'undefined') {\n",
       "        require.undef(\"plotly\");\n",
       "        requirejs.config({\n",
       "            paths: {\n",
       "                'plotly': ['https://cdn.plot.ly/plotly-2.12.1.min']\n",
       "            }\n",
       "        });\n",
       "        require(['plotly'], function(Plotly) {\n",
       "            window._Plotly = Plotly;\n",
       "        });\n",
       "        }\n",
       "        </script>\n",
       "        "
      ]
     },
     "metadata": {},
     "output_type": "display_data"
    }
   ],
   "source": [
    "import matplotlib as mpl\n",
    "import pandas as pd\n",
    "import matplotlib.pyplot as plt\n",
    "import seaborn as sns\n",
    "import plotly.express as px\n",
    "import numpy as np\n",
    "import cufflinks as cf\n",
    "from sklearn.model_selection import train_test_split\n",
    "from sklearn.linear_model import LinearRegression\n",
    "%matplotlib inline\n",
    "cf.go_offline()\n"
   ]
  },
  {
   "cell_type": "markdown",
   "id": "6d58b766",
   "metadata": {},
   "source": [
    "* reading in CSV file from Kaggle."
   ]
  },
  {
   "cell_type": "code",
   "execution_count": 2,
   "id": "fb2c8936",
   "metadata": {},
   "outputs": [],
   "source": [
    "coffee_dataset=pd.read_csv(\"coffee.csv\")"
   ]
  },
  {
   "cell_type": "code",
   "execution_count": 3,
   "id": "b4bc4f65",
   "metadata": {},
   "outputs": [],
   "source": [
    "df= coffee_dataset"
   ]
  },
  {
   "cell_type": "code",
   "execution_count": 4,
   "id": "f0cd92ca",
   "metadata": {},
   "outputs": [
    {
     "name": "stdout",
     "output_type": "stream",
     "text": [
      "<class 'pandas.core.frame.DataFrame'>\n",
      "RangeIndex: 5693 entries, 0 to 5692\n",
      "Data columns (total 7 columns):\n",
      " #   Column    Non-Null Count  Dtype  \n",
      "---  ------    --------------  -----  \n",
      " 0   Date      5693 non-null   object \n",
      " 1   Open      5693 non-null   float64\n",
      " 2   High      5693 non-null   float64\n",
      " 3   Low       5693 non-null   float64\n",
      " 4   Close     5693 non-null   float64\n",
      " 5   Volume    5693 non-null   int64  \n",
      " 6   Currency  5693 non-null   object \n",
      "dtypes: float64(4), int64(1), object(2)\n",
      "memory usage: 311.5+ KB\n"
     ]
    }
   ],
   "source": [
    "df.info()"
   ]
  },
  {
   "cell_type": "code",
   "execution_count": 5,
   "id": "a57c3fb3",
   "metadata": {},
   "outputs": [
    {
     "data": {
      "text/plain": [
       "(5693, 7)"
      ]
     },
     "execution_count": 5,
     "metadata": {},
     "output_type": "execute_result"
    }
   ],
   "source": [
    "df.shape"
   ]
  },
  {
   "cell_type": "code",
   "execution_count": 6,
   "id": "b258c30b",
   "metadata": {},
   "outputs": [
    {
     "data": {
      "text/html": [
       "<div>\n",
       "<style scoped>\n",
       "    .dataframe tbody tr th:only-of-type {\n",
       "        vertical-align: middle;\n",
       "    }\n",
       "\n",
       "    .dataframe tbody tr th {\n",
       "        vertical-align: top;\n",
       "    }\n",
       "\n",
       "    .dataframe thead th {\n",
       "        text-align: right;\n",
       "    }\n",
       "</style>\n",
       "<table border=\"1\" class=\"dataframe\">\n",
       "  <thead>\n",
       "    <tr style=\"text-align: right;\">\n",
       "      <th></th>\n",
       "      <th>Open</th>\n",
       "      <th>High</th>\n",
       "      <th>Low</th>\n",
       "      <th>Close</th>\n",
       "      <th>Volume</th>\n",
       "    </tr>\n",
       "  </thead>\n",
       "  <tbody>\n",
       "    <tr>\n",
       "      <th>count</th>\n",
       "      <td>5693.00000</td>\n",
       "      <td>5693.000000</td>\n",
       "      <td>5693.000000</td>\n",
       "      <td>5693.000000</td>\n",
       "      <td>5693.000000</td>\n",
       "    </tr>\n",
       "    <tr>\n",
       "      <th>mean</th>\n",
       "      <td>126.38925</td>\n",
       "      <td>127.954124</td>\n",
       "      <td>124.922897</td>\n",
       "      <td>126.336260</td>\n",
       "      <td>8784.621114</td>\n",
       "    </tr>\n",
       "    <tr>\n",
       "      <th>std</th>\n",
       "      <td>49.96451</td>\n",
       "      <td>50.545493</td>\n",
       "      <td>49.261095</td>\n",
       "      <td>49.898375</td>\n",
       "      <td>9610.690562</td>\n",
       "    </tr>\n",
       "    <tr>\n",
       "      <th>min</th>\n",
       "      <td>41.50000</td>\n",
       "      <td>42.000000</td>\n",
       "      <td>41.500000</td>\n",
       "      <td>41.500000</td>\n",
       "      <td>0.000000</td>\n",
       "    </tr>\n",
       "    <tr>\n",
       "      <th>25%</th>\n",
       "      <td>98.50000</td>\n",
       "      <td>99.750000</td>\n",
       "      <td>97.500000</td>\n",
       "      <td>98.400000</td>\n",
       "      <td>61.000000</td>\n",
       "    </tr>\n",
       "    <tr>\n",
       "      <th>50%</th>\n",
       "      <td>120.00000</td>\n",
       "      <td>121.250000</td>\n",
       "      <td>118.650000</td>\n",
       "      <td>119.950000</td>\n",
       "      <td>6987.000000</td>\n",
       "    </tr>\n",
       "    <tr>\n",
       "      <th>75%</th>\n",
       "      <td>143.40000</td>\n",
       "      <td>144.700000</td>\n",
       "      <td>141.700000</td>\n",
       "      <td>143.100000</td>\n",
       "      <td>14469.000000</td>\n",
       "    </tr>\n",
       "    <tr>\n",
       "      <th>max</th>\n",
       "      <td>305.30000</td>\n",
       "      <td>306.250000</td>\n",
       "      <td>304.000000</td>\n",
       "      <td>304.900000</td>\n",
       "      <td>62045.000000</td>\n",
       "    </tr>\n",
       "  </tbody>\n",
       "</table>\n",
       "</div>"
      ],
      "text/plain": [
       "             Open         High          Low        Close        Volume\n",
       "count  5693.00000  5693.000000  5693.000000  5693.000000   5693.000000\n",
       "mean    126.38925   127.954124   124.922897   126.336260   8784.621114\n",
       "std      49.96451    50.545493    49.261095    49.898375   9610.690562\n",
       "min      41.50000    42.000000    41.500000    41.500000      0.000000\n",
       "25%      98.50000    99.750000    97.500000    98.400000     61.000000\n",
       "50%     120.00000   121.250000   118.650000   119.950000   6987.000000\n",
       "75%     143.40000   144.700000   141.700000   143.100000  14469.000000\n",
       "max     305.30000   306.250000   304.000000   304.900000  62045.000000"
      ]
     },
     "execution_count": 6,
     "metadata": {},
     "output_type": "execute_result"
    }
   ],
   "source": [
    "df.describe()"
   ]
  },
  {
   "cell_type": "code",
   "execution_count": 7,
   "id": "fe29fbd8",
   "metadata": {},
   "outputs": [
    {
     "data": {
      "text/plain": [
       "5693"
      ]
     },
     "execution_count": 7,
     "metadata": {},
     "output_type": "execute_result"
    }
   ],
   "source": [
    "len(df.Date.unique())"
   ]
  },
  {
   "cell_type": "code",
   "execution_count": 8,
   "id": "de3cfa7f",
   "metadata": {},
   "outputs": [
    {
     "data": {
      "text/html": [
       "<div>\n",
       "<style scoped>\n",
       "    .dataframe tbody tr th:only-of-type {\n",
       "        vertical-align: middle;\n",
       "    }\n",
       "\n",
       "    .dataframe tbody tr th {\n",
       "        vertical-align: top;\n",
       "    }\n",
       "\n",
       "    .dataframe thead th {\n",
       "        text-align: right;\n",
       "    }\n",
       "</style>\n",
       "<table border=\"1\" class=\"dataframe\">\n",
       "  <thead>\n",
       "    <tr style=\"text-align: right;\">\n",
       "      <th></th>\n",
       "      <th>Date</th>\n",
       "      <th>Open</th>\n",
       "      <th>High</th>\n",
       "      <th>Low</th>\n",
       "      <th>Close</th>\n",
       "      <th>Volume</th>\n",
       "      <th>Currency</th>\n",
       "    </tr>\n",
       "  </thead>\n",
       "  <tbody>\n",
       "    <tr>\n",
       "      <th>0</th>\n",
       "      <td>2000-01-03</td>\n",
       "      <td>122.25</td>\n",
       "      <td>124.00</td>\n",
       "      <td>116.10</td>\n",
       "      <td>116.50</td>\n",
       "      <td>6640</td>\n",
       "      <td>USD</td>\n",
       "    </tr>\n",
       "    <tr>\n",
       "      <th>1</th>\n",
       "      <td>2000-01-04</td>\n",
       "      <td>116.25</td>\n",
       "      <td>120.50</td>\n",
       "      <td>115.75</td>\n",
       "      <td>116.25</td>\n",
       "      <td>5492</td>\n",
       "      <td>USD</td>\n",
       "    </tr>\n",
       "    <tr>\n",
       "      <th>2</th>\n",
       "      <td>2000-01-05</td>\n",
       "      <td>115.00</td>\n",
       "      <td>121.00</td>\n",
       "      <td>115.00</td>\n",
       "      <td>118.60</td>\n",
       "      <td>6165</td>\n",
       "      <td>USD</td>\n",
       "    </tr>\n",
       "    <tr>\n",
       "      <th>3</th>\n",
       "      <td>2000-01-06</td>\n",
       "      <td>119.00</td>\n",
       "      <td>121.40</td>\n",
       "      <td>116.50</td>\n",
       "      <td>116.85</td>\n",
       "      <td>5094</td>\n",
       "      <td>USD</td>\n",
       "    </tr>\n",
       "    <tr>\n",
       "      <th>4</th>\n",
       "      <td>2000-01-07</td>\n",
       "      <td>117.25</td>\n",
       "      <td>117.75</td>\n",
       "      <td>113.80</td>\n",
       "      <td>114.15</td>\n",
       "      <td>6855</td>\n",
       "      <td>USD</td>\n",
       "    </tr>\n",
       "    <tr>\n",
       "      <th>...</th>\n",
       "      <td>...</td>\n",
       "      <td>...</td>\n",
       "      <td>...</td>\n",
       "      <td>...</td>\n",
       "      <td>...</td>\n",
       "      <td>...</td>\n",
       "      <td>...</td>\n",
       "    </tr>\n",
       "    <tr>\n",
       "      <th>5688</th>\n",
       "      <td>2022-06-13</td>\n",
       "      <td>226.80</td>\n",
       "      <td>227.85</td>\n",
       "      <td>218.90</td>\n",
       "      <td>223.35</td>\n",
       "      <td>22838</td>\n",
       "      <td>USD</td>\n",
       "    </tr>\n",
       "    <tr>\n",
       "      <th>5689</th>\n",
       "      <td>2022-06-14</td>\n",
       "      <td>224.25</td>\n",
       "      <td>229.25</td>\n",
       "      <td>222.90</td>\n",
       "      <td>226.95</td>\n",
       "      <td>12874</td>\n",
       "      <td>USD</td>\n",
       "    </tr>\n",
       "    <tr>\n",
       "      <th>5690</th>\n",
       "      <td>2022-06-15</td>\n",
       "      <td>225.85</td>\n",
       "      <td>229.70</td>\n",
       "      <td>221.75</td>\n",
       "      <td>228.50</td>\n",
       "      <td>9194</td>\n",
       "      <td>USD</td>\n",
       "    </tr>\n",
       "    <tr>\n",
       "      <th>5691</th>\n",
       "      <td>2022-06-16</td>\n",
       "      <td>228.50</td>\n",
       "      <td>233.00</td>\n",
       "      <td>226.20</td>\n",
       "      <td>231.95</td>\n",
       "      <td>5592</td>\n",
       "      <td>USD</td>\n",
       "    </tr>\n",
       "    <tr>\n",
       "      <th>5692</th>\n",
       "      <td>2022-06-17</td>\n",
       "      <td>232.28</td>\n",
       "      <td>234.47</td>\n",
       "      <td>230.90</td>\n",
       "      <td>232.70</td>\n",
       "      <td>0</td>\n",
       "      <td>USD</td>\n",
       "    </tr>\n",
       "  </tbody>\n",
       "</table>\n",
       "<p>5693 rows × 7 columns</p>\n",
       "</div>"
      ],
      "text/plain": [
       "            Date    Open    High     Low   Close  Volume Currency\n",
       "0     2000-01-03  122.25  124.00  116.10  116.50    6640      USD\n",
       "1     2000-01-04  116.25  120.50  115.75  116.25    5492      USD\n",
       "2     2000-01-05  115.00  121.00  115.00  118.60    6165      USD\n",
       "3     2000-01-06  119.00  121.40  116.50  116.85    5094      USD\n",
       "4     2000-01-07  117.25  117.75  113.80  114.15    6855      USD\n",
       "...          ...     ...     ...     ...     ...     ...      ...\n",
       "5688  2022-06-13  226.80  227.85  218.90  223.35   22838      USD\n",
       "5689  2022-06-14  224.25  229.25  222.90  226.95   12874      USD\n",
       "5690  2022-06-15  225.85  229.70  221.75  228.50    9194      USD\n",
       "5691  2022-06-16  228.50  233.00  226.20  231.95    5592      USD\n",
       "5692  2022-06-17  232.28  234.47  230.90  232.70       0      USD\n",
       "\n",
       "[5693 rows x 7 columns]"
      ]
     },
     "execution_count": 8,
     "metadata": {},
     "output_type": "execute_result"
    }
   ],
   "source": [
    "coffee_dataset"
   ]
  },
  {
   "cell_type": "code",
   "execution_count": 9,
   "id": "e062b9c7",
   "metadata": {},
   "outputs": [
    {
     "data": {
      "text/html": [
       "<div>\n",
       "<style scoped>\n",
       "    .dataframe tbody tr th:only-of-type {\n",
       "        vertical-align: middle;\n",
       "    }\n",
       "\n",
       "    .dataframe tbody tr th {\n",
       "        vertical-align: top;\n",
       "    }\n",
       "\n",
       "    .dataframe thead th {\n",
       "        text-align: right;\n",
       "    }\n",
       "</style>\n",
       "<table border=\"1\" class=\"dataframe\">\n",
       "  <thead>\n",
       "    <tr style=\"text-align: right;\">\n",
       "      <th></th>\n",
       "      <th>Date</th>\n",
       "      <th>Open</th>\n",
       "      <th>High</th>\n",
       "      <th>Low</th>\n",
       "      <th>Close</th>\n",
       "      <th>Volume</th>\n",
       "      <th>Currency</th>\n",
       "    </tr>\n",
       "  </thead>\n",
       "  <tbody>\n",
       "    <tr>\n",
       "      <th>0</th>\n",
       "      <td>2000-01-03</td>\n",
       "      <td>122.25</td>\n",
       "      <td>124.00</td>\n",
       "      <td>116.10</td>\n",
       "      <td>116.50</td>\n",
       "      <td>6640</td>\n",
       "      <td>USD</td>\n",
       "    </tr>\n",
       "    <tr>\n",
       "      <th>1</th>\n",
       "      <td>2000-01-04</td>\n",
       "      <td>116.25</td>\n",
       "      <td>120.50</td>\n",
       "      <td>115.75</td>\n",
       "      <td>116.25</td>\n",
       "      <td>5492</td>\n",
       "      <td>USD</td>\n",
       "    </tr>\n",
       "    <tr>\n",
       "      <th>2</th>\n",
       "      <td>2000-01-05</td>\n",
       "      <td>115.00</td>\n",
       "      <td>121.00</td>\n",
       "      <td>115.00</td>\n",
       "      <td>118.60</td>\n",
       "      <td>6165</td>\n",
       "      <td>USD</td>\n",
       "    </tr>\n",
       "    <tr>\n",
       "      <th>3</th>\n",
       "      <td>2000-01-06</td>\n",
       "      <td>119.00</td>\n",
       "      <td>121.40</td>\n",
       "      <td>116.50</td>\n",
       "      <td>116.85</td>\n",
       "      <td>5094</td>\n",
       "      <td>USD</td>\n",
       "    </tr>\n",
       "    <tr>\n",
       "      <th>4</th>\n",
       "      <td>2000-01-07</td>\n",
       "      <td>117.25</td>\n",
       "      <td>117.75</td>\n",
       "      <td>113.80</td>\n",
       "      <td>114.15</td>\n",
       "      <td>6855</td>\n",
       "      <td>USD</td>\n",
       "    </tr>\n",
       "    <tr>\n",
       "      <th>...</th>\n",
       "      <td>...</td>\n",
       "      <td>...</td>\n",
       "      <td>...</td>\n",
       "      <td>...</td>\n",
       "      <td>...</td>\n",
       "      <td>...</td>\n",
       "      <td>...</td>\n",
       "    </tr>\n",
       "    <tr>\n",
       "      <th>5688</th>\n",
       "      <td>2022-06-13</td>\n",
       "      <td>226.80</td>\n",
       "      <td>227.85</td>\n",
       "      <td>218.90</td>\n",
       "      <td>223.35</td>\n",
       "      <td>22838</td>\n",
       "      <td>USD</td>\n",
       "    </tr>\n",
       "    <tr>\n",
       "      <th>5689</th>\n",
       "      <td>2022-06-14</td>\n",
       "      <td>224.25</td>\n",
       "      <td>229.25</td>\n",
       "      <td>222.90</td>\n",
       "      <td>226.95</td>\n",
       "      <td>12874</td>\n",
       "      <td>USD</td>\n",
       "    </tr>\n",
       "    <tr>\n",
       "      <th>5690</th>\n",
       "      <td>2022-06-15</td>\n",
       "      <td>225.85</td>\n",
       "      <td>229.70</td>\n",
       "      <td>221.75</td>\n",
       "      <td>228.50</td>\n",
       "      <td>9194</td>\n",
       "      <td>USD</td>\n",
       "    </tr>\n",
       "    <tr>\n",
       "      <th>5691</th>\n",
       "      <td>2022-06-16</td>\n",
       "      <td>228.50</td>\n",
       "      <td>233.00</td>\n",
       "      <td>226.20</td>\n",
       "      <td>231.95</td>\n",
       "      <td>5592</td>\n",
       "      <td>USD</td>\n",
       "    </tr>\n",
       "    <tr>\n",
       "      <th>5692</th>\n",
       "      <td>2022-06-17</td>\n",
       "      <td>232.28</td>\n",
       "      <td>234.47</td>\n",
       "      <td>230.90</td>\n",
       "      <td>232.70</td>\n",
       "      <td>0</td>\n",
       "      <td>USD</td>\n",
       "    </tr>\n",
       "  </tbody>\n",
       "</table>\n",
       "<p>5693 rows × 7 columns</p>\n",
       "</div>"
      ],
      "text/plain": [
       "            Date    Open    High     Low   Close  Volume Currency\n",
       "0     2000-01-03  122.25  124.00  116.10  116.50    6640      USD\n",
       "1     2000-01-04  116.25  120.50  115.75  116.25    5492      USD\n",
       "2     2000-01-05  115.00  121.00  115.00  118.60    6165      USD\n",
       "3     2000-01-06  119.00  121.40  116.50  116.85    5094      USD\n",
       "4     2000-01-07  117.25  117.75  113.80  114.15    6855      USD\n",
       "...          ...     ...     ...     ...     ...     ...      ...\n",
       "5688  2022-06-13  226.80  227.85  218.90  223.35   22838      USD\n",
       "5689  2022-06-14  224.25  229.25  222.90  226.95   12874      USD\n",
       "5690  2022-06-15  225.85  229.70  221.75  228.50    9194      USD\n",
       "5691  2022-06-16  228.50  233.00  226.20  231.95    5592      USD\n",
       "5692  2022-06-17  232.28  234.47  230.90  232.70       0      USD\n",
       "\n",
       "[5693 rows x 7 columns]"
      ]
     },
     "execution_count": 9,
     "metadata": {},
     "output_type": "execute_result"
    }
   ],
   "source": [
    "#checking for missing data.\n",
    "df.dropna()"
   ]
  },
  {
   "cell_type": "markdown",
   "id": "bd894ae5",
   "metadata": {},
   "source": [
    "# passing in a dictionary to change columns names to all caps."
   ]
  },
  {
   "cell_type": "code",
   "execution_count": 10,
   "id": "e3dc2d51",
   "metadata": {},
   "outputs": [],
   "source": [
    "df. rename (columns= {'Date':'DATE','Open':'OPEN','High':'HIGH','Low':'LOW','Close':'CLOSE','Volume':'VOLUME','Currency':'CURRENCY'}, inplace= True)"
   ]
  },
  {
   "cell_type": "code",
   "execution_count": 11,
   "id": "a6928003",
   "metadata": {},
   "outputs": [
    {
     "data": {
      "text/html": [
       "<div>\n",
       "<style scoped>\n",
       "    .dataframe tbody tr th:only-of-type {\n",
       "        vertical-align: middle;\n",
       "    }\n",
       "\n",
       "    .dataframe tbody tr th {\n",
       "        vertical-align: top;\n",
       "    }\n",
       "\n",
       "    .dataframe thead th {\n",
       "        text-align: right;\n",
       "    }\n",
       "</style>\n",
       "<table border=\"1\" class=\"dataframe\">\n",
       "  <thead>\n",
       "    <tr style=\"text-align: right;\">\n",
       "      <th></th>\n",
       "      <th>DATE</th>\n",
       "      <th>OPEN</th>\n",
       "      <th>HIGH</th>\n",
       "      <th>LOW</th>\n",
       "      <th>CLOSE</th>\n",
       "      <th>VOLUME</th>\n",
       "      <th>CURRENCY</th>\n",
       "    </tr>\n",
       "  </thead>\n",
       "  <tbody>\n",
       "    <tr>\n",
       "      <th>0</th>\n",
       "      <td>2000-01-03</td>\n",
       "      <td>122.25</td>\n",
       "      <td>124.00</td>\n",
       "      <td>116.10</td>\n",
       "      <td>116.50</td>\n",
       "      <td>6640</td>\n",
       "      <td>USD</td>\n",
       "    </tr>\n",
       "    <tr>\n",
       "      <th>1</th>\n",
       "      <td>2000-01-04</td>\n",
       "      <td>116.25</td>\n",
       "      <td>120.50</td>\n",
       "      <td>115.75</td>\n",
       "      <td>116.25</td>\n",
       "      <td>5492</td>\n",
       "      <td>USD</td>\n",
       "    </tr>\n",
       "    <tr>\n",
       "      <th>2</th>\n",
       "      <td>2000-01-05</td>\n",
       "      <td>115.00</td>\n",
       "      <td>121.00</td>\n",
       "      <td>115.00</td>\n",
       "      <td>118.60</td>\n",
       "      <td>6165</td>\n",
       "      <td>USD</td>\n",
       "    </tr>\n",
       "    <tr>\n",
       "      <th>3</th>\n",
       "      <td>2000-01-06</td>\n",
       "      <td>119.00</td>\n",
       "      <td>121.40</td>\n",
       "      <td>116.50</td>\n",
       "      <td>116.85</td>\n",
       "      <td>5094</td>\n",
       "      <td>USD</td>\n",
       "    </tr>\n",
       "    <tr>\n",
       "      <th>4</th>\n",
       "      <td>2000-01-07</td>\n",
       "      <td>117.25</td>\n",
       "      <td>117.75</td>\n",
       "      <td>113.80</td>\n",
       "      <td>114.15</td>\n",
       "      <td>6855</td>\n",
       "      <td>USD</td>\n",
       "    </tr>\n",
       "    <tr>\n",
       "      <th>...</th>\n",
       "      <td>...</td>\n",
       "      <td>...</td>\n",
       "      <td>...</td>\n",
       "      <td>...</td>\n",
       "      <td>...</td>\n",
       "      <td>...</td>\n",
       "      <td>...</td>\n",
       "    </tr>\n",
       "    <tr>\n",
       "      <th>5688</th>\n",
       "      <td>2022-06-13</td>\n",
       "      <td>226.80</td>\n",
       "      <td>227.85</td>\n",
       "      <td>218.90</td>\n",
       "      <td>223.35</td>\n",
       "      <td>22838</td>\n",
       "      <td>USD</td>\n",
       "    </tr>\n",
       "    <tr>\n",
       "      <th>5689</th>\n",
       "      <td>2022-06-14</td>\n",
       "      <td>224.25</td>\n",
       "      <td>229.25</td>\n",
       "      <td>222.90</td>\n",
       "      <td>226.95</td>\n",
       "      <td>12874</td>\n",
       "      <td>USD</td>\n",
       "    </tr>\n",
       "    <tr>\n",
       "      <th>5690</th>\n",
       "      <td>2022-06-15</td>\n",
       "      <td>225.85</td>\n",
       "      <td>229.70</td>\n",
       "      <td>221.75</td>\n",
       "      <td>228.50</td>\n",
       "      <td>9194</td>\n",
       "      <td>USD</td>\n",
       "    </tr>\n",
       "    <tr>\n",
       "      <th>5691</th>\n",
       "      <td>2022-06-16</td>\n",
       "      <td>228.50</td>\n",
       "      <td>233.00</td>\n",
       "      <td>226.20</td>\n",
       "      <td>231.95</td>\n",
       "      <td>5592</td>\n",
       "      <td>USD</td>\n",
       "    </tr>\n",
       "    <tr>\n",
       "      <th>5692</th>\n",
       "      <td>2022-06-17</td>\n",
       "      <td>232.28</td>\n",
       "      <td>234.47</td>\n",
       "      <td>230.90</td>\n",
       "      <td>232.70</td>\n",
       "      <td>0</td>\n",
       "      <td>USD</td>\n",
       "    </tr>\n",
       "  </tbody>\n",
       "</table>\n",
       "<p>5693 rows × 7 columns</p>\n",
       "</div>"
      ],
      "text/plain": [
       "            DATE    OPEN    HIGH     LOW   CLOSE  VOLUME CURRENCY\n",
       "0     2000-01-03  122.25  124.00  116.10  116.50    6640      USD\n",
       "1     2000-01-04  116.25  120.50  115.75  116.25    5492      USD\n",
       "2     2000-01-05  115.00  121.00  115.00  118.60    6165      USD\n",
       "3     2000-01-06  119.00  121.40  116.50  116.85    5094      USD\n",
       "4     2000-01-07  117.25  117.75  113.80  114.15    6855      USD\n",
       "...          ...     ...     ...     ...     ...     ...      ...\n",
       "5688  2022-06-13  226.80  227.85  218.90  223.35   22838      USD\n",
       "5689  2022-06-14  224.25  229.25  222.90  226.95   12874      USD\n",
       "5690  2022-06-15  225.85  229.70  221.75  228.50    9194      USD\n",
       "5691  2022-06-16  228.50  233.00  226.20  231.95    5592      USD\n",
       "5692  2022-06-17  232.28  234.47  230.90  232.70       0      USD\n",
       "\n",
       "[5693 rows x 7 columns]"
      ]
     },
     "execution_count": 11,
     "metadata": {},
     "output_type": "execute_result"
    }
   ],
   "source": [
    "df"
   ]
  },
  {
   "cell_type": "code",
   "execution_count": 13,
   "id": "ac51a7b9",
   "metadata": {},
   "outputs": [
    {
     "data": {
      "text/plain": [
       "<bound method Series.mode of 0       116.50\n",
       "1       116.25\n",
       "2       118.60\n",
       "3       116.85\n",
       "4       114.15\n",
       "         ...  \n",
       "5688    223.35\n",
       "5689    226.95\n",
       "5690    228.50\n",
       "5691    231.95\n",
       "5692    232.70\n",
       "Name: CLOSE, Length: 5693, dtype: float64>"
      ]
     },
     "execution_count": 13,
     "metadata": {},
     "output_type": "execute_result"
    }
   ],
   "source": [
    "df['CLOSE'].mode"
   ]
  },
  {
   "cell_type": "code",
   "execution_count": 14,
   "id": "1dcd9158",
   "metadata": {},
   "outputs": [
    {
     "data": {
      "text/plain": [
       "304.9"
      ]
     },
     "execution_count": 14,
     "metadata": {},
     "output_type": "execute_result"
    }
   ],
   "source": [
    "#Checking highest closing price.\n",
    "\n",
    "df['CLOSE'].max()"
   ]
  },
  {
   "cell_type": "code",
   "execution_count": 15,
   "id": "c6f9b262",
   "metadata": {},
   "outputs": [
    {
     "data": {
      "text/plain": [
       "41.5"
      ]
     },
     "execution_count": 15,
     "metadata": {},
     "output_type": "execute_result"
    }
   ],
   "source": [
    "#Checking lowest closing price.\n",
    "\n",
    "df['CLOSE'].min()"
   ]
  },
  {
   "cell_type": "code",
   "execution_count": 16,
   "id": "7d757aaa",
   "metadata": {},
   "outputs": [
    {
     "data": {
      "text/plain": [
       "126.33626031969077"
      ]
     },
     "execution_count": 16,
     "metadata": {},
     "output_type": "execute_result"
    }
   ],
   "source": [
    "#checking avage closing price.\n",
    "\n",
    "df['CLOSE'].mean()"
   ]
  },
  {
   "cell_type": "code",
   "execution_count": null,
   "id": "4642f8f1",
   "metadata": {},
   "outputs": [],
   "source": [
    "df.head()"
   ]
  },
  {
   "cell_type": "markdown",
   "id": "b5faa9ff",
   "metadata": {},
   "source": [
    "## showing Open and close prices.\n",
    "* with iplot in Pandas"
   ]
  },
  {
   "cell_type": "code",
   "execution_count": null,
   "id": "591a7d1f",
   "metadata": {},
   "outputs": [],
   "source": [
    "# working with iplot\n",
    "df['OPEN'].iplot(legend='OPEN')\n",
    "df['CLOSE'].iplot(legend='CLOSE')"
   ]
  },
  {
   "cell_type": "code",
   "execution_count": null,
   "id": "c1c6d2fe",
   "metadata": {},
   "outputs": [],
   "source": [
    "df['HIGH'].iplot(legend='HIGH')"
   ]
  },
  {
   "cell_type": "code",
   "execution_count": null,
   "id": "4dc44d6d",
   "metadata": {},
   "outputs": [],
   "source": [
    "\n",
    "df.head(10)"
   ]
  },
  {
   "cell_type": "code",
   "execution_count": null,
   "id": "8ec1e2a7",
   "metadata": {},
   "outputs": [],
   "source": [
    "df['OPEN'].max\n"
   ]
  },
  {
   "cell_type": "markdown",
   "id": "e8b443a5",
   "metadata": {},
   "source": [
    "# Using Matplotlib"
   ]
  },
  {
   "cell_type": "code",
   "execution_count": null,
   "id": "7b3a6a39",
   "metadata": {
    "scrolled": true
   },
   "outputs": [],
   "source": [
    "sns.displot(df, x='OPEN')\n",
    "\n",
    "Open_x = [df.OPEN]\n",
    "x_indexes = np.arange(len('OPEN_x'))\n",
    "plt.legend([\"Opinging Prices in $\"])\n",
    "plt.title(\"Opening Daily Coffee Prices\")\n",
    "plt.xlabel(\"OPENING PRICES\")\n",
    "plt.ylabel(\"Prices In USD\")\n",
    "plt.figure(figsize=(4,2),dpi=100.0)\n",
    "plt.show()"
   ]
  },
  {
   "cell_type": "code",
   "execution_count": null,
   "id": "60981980",
   "metadata": {},
   "outputs": [],
   "source": [
    "#showing top 25 rows\n",
    "\n",
    "df.head(25)"
   ]
  },
  {
   "cell_type": "code",
   "execution_count": null,
   "id": "dc22e15f",
   "metadata": {},
   "outputs": [],
   "source": [
    "df=pd.read_csv('coffee.csv')\n",
    "pd.set_option('display.max_columns',None)"
   ]
  },
  {
   "cell_type": "code",
   "execution_count": null,
   "id": "58c391f8",
   "metadata": {},
   "outputs": [],
   "source": [
    "df.tail()"
   ]
  },
  {
   "cell_type": "code",
   "execution_count": null,
   "id": "f960721f",
   "metadata": {},
   "outputs": [],
   "source": [
    "#useing Matplotlib and seaborn to show data\n",
    "\n",
    "plt.style.use('seaborn')\n",
    "\n",
    "data = pd.read_csv('coffee.csv')\n",
    "Open = data['Open']\n",
    "High = data['High']\n",
    "Low = data['Low']\n",
    "\n",
    "fig, ax = plt.subplots()\n",
    "\n",
    "ax.plot(High, label='High')\n",
    "ax.plot(Open,label='Open')\n",
    "ax.plot(Low,label='Low')\n",
    "\n",
    "#fig, ax = plt.subplots()\n",
    "\n",
    "ax.plot(Open, High, Low, color= '#777777',linestyle=':', label='high')\n",
    "#ax.plot(Open, color='#444444',linestyle='--', label='open')\n",
    "\n",
    "ax.legend()\n",
    "\n",
    "ax.set_title('Coffee cost')\n",
    "ax.set_xlabel('Open')\n",
    "ax.set_ylabel('High')\n",
    "\n",
    "plt.tight_layout()\n",
    "\n",
    "plt.show()"
   ]
  },
  {
   "cell_type": "code",
   "execution_count": null,
   "id": "3227babf",
   "metadata": {},
   "outputs": [],
   "source": [
    "df.iloc[0, :]"
   ]
  },
  {
   "cell_type": "code",
   "execution_count": null,
   "id": "d4183ec2",
   "metadata": {},
   "outputs": [],
   "source": []
  }
 ],
 "metadata": {
  "kernelspec": {
   "display_name": "Python 3 (ipykernel)",
   "language": "python",
   "name": "python3"
  },
  "language_info": {
   "codemirror_mode": {
    "name": "ipython",
    "version": 3
   },
   "file_extension": ".py",
   "mimetype": "text/x-python",
   "name": "python",
   "nbconvert_exporter": "python",
   "pygments_lexer": "ipython3",
   "version": "3.9.7"
  }
 },
 "nbformat": 4,
 "nbformat_minor": 5
}
